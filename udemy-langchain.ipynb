{
 "cells": [
  {
   "cell_type": "code",
   "execution_count": 1,
   "metadata": {},
   "outputs": [
    {
     "name": "stdout",
     "output_type": "stream",
     "text": [
      "Hello Jupyter\n"
     ]
    }
   ],
   "source": [
    "print(\"Hello Jupyter\")"
   ]
  },
  {
   "cell_type": "code",
   "execution_count": null,
   "metadata": {},
   "outputs": [],
   "source": []
  },
  {
   "cell_type": "code",
   "execution_count": 2,
   "metadata": {},
   "outputs": [
    {
     "data": {
      "text/plain": [
       "True"
      ]
     },
     "execution_count": 2,
     "metadata": {},
     "output_type": "execute_result"
    }
   ],
   "source": [
    "from dotenv import load_dotenv\n",
    "\n",
    "load_dotenv()"
   ]
  },
  {
   "cell_type": "code",
   "execution_count": 3,
   "metadata": {},
   "outputs": [],
   "source": [
    "import os\n",
    "\n",
    "openai_api_key = os.getenv(\"OPENAI_API_KEY\")"
   ]
  },
  {
   "cell_type": "code",
   "execution_count": 4,
   "metadata": {},
   "outputs": [
    {
     "name": "stdout",
     "output_type": "stream",
     "text": [
      "{\n",
      "  \"error\": {\n",
      "    \"message\": \"This is a chat model and not supported in the v1/completions endpoint. Did you mean to use v1/chat/completions?\",\n",
      "    \"type\": \"invalid_request_error\",\n",
      "    \"param\": \"model\",\n",
      "    \"code\": null\n",
      "  }\n",
      "}\n"
     ]
    }
   ],
   "source": [
    "import requests\n",
    "import json\n",
    "\n",
    "url = \"https://api.openai.com/v1/completions\"\n",
    "headers = {\n",
    "    \"Content-Type\": \"application/json\",\n",
    "    \"Authorization\": \"Bearer \" + openai_api_key\n",
    "}\n",
    "data = {\n",
    "    \"model\": \"gpt-3.5-turbo\",\n",
    "    \"prompt\": \"hello!\",\n",
    "    \"temperature\": 0\n",
    "}\n",
    "\n",
    "response = requests.post(url=url, headers=headers, json=data)\n",
    "print(json.dumps(response.json(), indent=2))"
   ]
  },
  {
   "cell_type": "code",
   "execution_count": 5,
   "metadata": {},
   "outputs": [
    {
     "data": {
      "text/plain": [
       "'\\nimport requests\\nimport json\\n\\nurl = \"https://api.openai.com/v1/chat/completions\"\\nheaders = {\\n    \"Content-Type\": \"application/json\",\\n    \"Authorization\": \"Bearer \" + openai_api_key\\n}\\ndata = {\\n    \"model\": \"gpt-3.5-turbo\",\\n    \"messages\": [\\n        {\"role\" : \"user\", \"content\": \"hello!\"}\\n    ],\\n    \"temperature\": 0\\n}\\n\\nresponse = requests.post(url=url, headers=headers, json=data)\\nprint(json.dumps(response.json(), indent=2))\\n'"
      ]
     },
     "execution_count": 5,
     "metadata": {},
     "output_type": "execute_result"
    }
   ],
   "source": [
    "\"\"\"\n",
    "import requests\n",
    "import json\n",
    "\n",
    "url = \"https://api.openai.com/v1/chat/completions\"\n",
    "headers = {\n",
    "    \"Content-Type\": \"application/json\",\n",
    "    \"Authorization\": \"Bearer \" + openai_api_key\n",
    "}\n",
    "data = {\n",
    "    \"model\": \"gpt-3.5-turbo\",\n",
    "    \"messages\": [\n",
    "        {\"role\" : \"user\", \"content\": \"hello!\"}\n",
    "    ],\n",
    "    \"temperature\": 0\n",
    "}\n",
    "\n",
    "response = requests.post(url=url, headers=headers, json=data)\n",
    "print(json.dumps(response.json(), indent=2))\n",
    "\"\"\""
   ]
  },
  {
   "cell_type": "code",
   "execution_count": 10,
   "metadata": {},
   "outputs": [
    {
     "name": "stdout",
     "output_type": "stream",
     "text": [
      "content='こんにちは！私はAIアシスタントのChatGPTです。さまざまな質問に答えたり、情報を提供したり、会話を楽しんだりするために設計されています。趣味や興味、学びたいことについてお話しすることができますので、何でも気軽に聞いてください！あなたのサポートができることを楽しみにしています。' additional_kwargs={'refusal': None} response_metadata={'token_usage': {'completion_tokens': 88, 'prompt_tokens': 11, 'total_tokens': 99, 'completion_tokens_details': {'accepted_prediction_tokens': 0, 'audio_tokens': 0, 'reasoning_tokens': 0, 'rejected_prediction_tokens': 0}, 'prompt_tokens_details': {'audio_tokens': 0, 'cached_tokens': 0}}, 'model_name': 'gpt-4o-mini-2024-07-18', 'system_fingerprint': 'fp_0aa8d3e20b', 'finish_reason': 'stop', 'logprobs': None} id='run-de847e43-b8d5-4a05-a54f-31776d201980-0' usage_metadata={'input_tokens': 11, 'output_tokens': 88, 'total_tokens': 99, 'input_token_details': {'audio': 0, 'cache_read': 0}, 'output_token_details': {'audio': 0, 'reasoning': 0}}\n"
     ]
    }
   ],
   "source": [
    "from langchain_openai import ChatOpenAI\n",
    "\n",
    "llm = ChatOpenAI(model_name=\"gpt-4o-mini\", temperature=0)\n",
    "result = llm.invoke(\"自己紹介してください。\")\n",
    "print(result)"
   ]
  },
  {
   "cell_type": "code",
   "execution_count": 26,
   "metadata": {},
   "outputs": [
    {
     "name": "stdout",
     "output_type": "stream",
     "text": [
      "\n",
      "次の子マントの概要を説明してください。\n",
      "\n",
      "コマンド: ls\n",
      "\n"
     ]
    }
   ],
   "source": [
    "from langchain.prompts import PromptTemplate\n",
    "\n",
    "template = \"\"\"\n",
    "次のコマンドの概要を説明してください。\n",
    "\n",
    "コマンド: {command}\n",
    "\"\"\"\n",
    "\n",
    "prompt = PromptTemplate(\n",
    "    input_variables=[\"command\"],\n",
    "    template=template\n",
    ")\n",
    "\n",
    "result = prompt.format(command=\"ls\")\n",
    "print(result)"
   ]
  },
  {
   "cell_type": "code",
   "execution_count": 30,
   "metadata": {},
   "outputs": [
    {
     "name": "stdout",
     "output_type": "stream",
     "text": [
      "\n",
      "\n",
      "\u001b[1m> Entering new LLMChain chain...\u001b[0m\n",
      "Prompt after formatting:\n",
      "\u001b[32;1m\u001b[1;3m\n",
      "次のコマンドの概要を説明してください。\n",
      "\n",
      "コマンド: ls\n",
      "\u001b[0m\n",
      "\n",
      "\u001b[1m> Finished chain.\u001b[0m\n",
      "`ls` コマンドは、Unix系のオペレーティングシステム（LinuxやmacOSなど）で使用されるコマンドで、指定したディレクトリ内のファイルやサブディレクトリの一覧を表示するためのものです。デフォルトでは、現在の作業ディレクトリの内容を表示します。\n",
      "\n",
      "主な機能やオプションには以下のようなものがあります：\n",
      "\n",
      "- `-l` オプション: 詳細情報を表示します（ファイルのパーミッション、所有者、サイズ、最終更新日時など）。\n",
      "- `-a` オプション: 隠しファイル（ドットで始まるファイル）も含めてすべてのファイルを表示します。\n",
      "- `-h` オプション: サイズを人間に読みやすい形式（KB, MBなど）で表示します。\n",
      "- `-R` オプション: サブディレクトリも再帰的に表示します。\n",
      "\n",
      "このように、`ls` コマンドはファイルシステムの内容を確認するための基本的かつ非常に便利なツールです。\n"
     ]
    }
   ],
   "source": [
    "import langchain\n",
    "from langchain.chains import LLMChain\n",
    "from langchain_openai import ChatOpenAI\n",
    "from langchain.prompts import PromptTemplate\n",
    "\n",
    "langchain.verbose = True\n",
    "\n",
    "chat = ChatOpenAI(model_name=\"gpt-4o-mini\", temperature=0)\n",
    "\n",
    "template = \"\"\"\n",
    "次のコマンドの概要を説明してください。\n",
    "\n",
    "コマンド: {command}\n",
    "\"\"\"\n",
    "\n",
    "prompt = PromptTemplate(\n",
    "    input_variables=[\"command\"],\n",
    "    template=template\n",
    ")\n",
    "\n",
    "chain = LLMChain(llm=chat, prompt=prompt)\n",
    "result = chain.run(\"ls\")\n",
    "print(result)"
   ]
  },
  {
   "cell_type": "code",
   "execution_count": 31,
   "metadata": {},
   "outputs": [],
   "source": [
    "cot_template = \"\"\"\n",
    "以下の質問に回答してください。\n",
    "\n",
    "### 質問 ###\n",
    "{question}\n",
    "### 質問終了 ###\n",
    "\n",
    "ステップバイステップで考えましょう。\n",
    "\"\"\"\n",
    "\n",
    "cot_prompt = PromptTemplate(\n",
    "    input_variables=[\"question\"],\n",
    "    template=cot_template\n",
    ")\n",
    "cot_chain = LLMChain(llm=chat, prompt=cot_prompt)\n",
    "\n",
    "summarize_template = \"\"\"\n",
    "入力を結論だけ一言に要約してください。\n",
    "\n",
    "### 入力 ###\n",
    "{input}\n",
    "### 入力終了 ###\n",
    "\"\"\"\n",
    "\n",
    "summarize_prompt = PromptTemplate(\n",
    "    input_variables=[\"inupt\"],\n",
    "    template=summarize_template\n",
    ")\n",
    "summarize_chain = LLMChain(llm=chat, prompt=summarize_prompt)"
   ]
  },
  {
   "cell_type": "code",
   "execution_count": 32,
   "metadata": {},
   "outputs": [
    {
     "name": "stderr",
     "output_type": "stream",
     "text": [
      "/tmp/ipykernel_975/3858086507.py:5: LangChainDeprecationWarning: The method `Chain.__call__` was deprecated in langchain 0.1.0 and will be removed in 1.0. Use :meth:`~invoke` instead.\n",
      "  result = cot_summarize_chain(\"私は市場に行って１０個のリンゴを買いました。隣人に２つ、修理工に２つ渡しました。それから５つのリンゴを買って１つ食べました。残りは何個ですか？\")\n"
     ]
    },
    {
     "name": "stdout",
     "output_type": "stream",
     "text": [
      "\n",
      "\n",
      "\u001b[1m> Entering new SimpleSequentialChain chain...\u001b[0m\n",
      "\n",
      "\n",
      "\u001b[1m> Entering new LLMChain chain...\u001b[0m\n",
      "Prompt after formatting:\n",
      "\u001b[32;1m\u001b[1;3m\n",
      "以下の質問に回答してください。\n",
      "\n",
      "### 質問 ###\n",
      "私は市場に行って１０個のリンゴを買いました。隣人に２つ、修理工に２つ渡しました。それから５つのリンゴを買って１つ食べました。残りは何個ですか？\n",
      "### 質問終了 ###\n",
      "\n",
      "ステップバイステップで考えましょう。\n",
      "\u001b[0m\n",
      "\n",
      "\u001b[1m> Finished chain.\u001b[0m\n",
      "\u001b[36;1m\u001b[1;3mでは、ステップバイステップで考えてみましょう。\n",
      "\n",
      "1. **最初に買ったリンゴの数**: 10個\n",
      "2. **隣人に渡したリンゴの数**: 2個\n",
      "3. **修理工に渡したリンゴの数**: 2個\n",
      "\n",
      "   ここで、渡したリンゴの合計は 2 + 2 = 4 個です。\n",
      "\n",
      "4. **残りのリンゴの数**: \n",
      "   最初の10個から渡した4個を引きます。\n",
      "   \\[\n",
      "   10 - 4 = 6 \\text{個}\n",
      "   \\]\n",
      "\n",
      "5. **その後、さらにリンゴを買った数**: 5個\n",
      "6. **新しい合計のリンゴの数**: \n",
      "   残りの6個に新たに買った5個を加えます。\n",
      "   \\[\n",
      "   6 + 5 = 11 \\text{個}\n",
      "   \\]\n",
      "\n",
      "7. **食べたリンゴの数**: 1個\n",
      "8. **最終的な残りのリンゴの数**: \n",
      "   11個から食べた1個を引きます。\n",
      "   \\[\n",
      "   11 - 1 = 10 \\text{個}\n",
      "   \\]\n",
      "\n",
      "したがって、最終的に残っているリンゴの数は **10個** です。\u001b[0m\n",
      "\n",
      "\n",
      "\u001b[1m> Entering new LLMChain chain...\u001b[0m\n",
      "Prompt after formatting:\n",
      "\u001b[32;1m\u001b[1;3m\n",
      "入力を結論だけ一言に要約してください。\n",
      "\n",
      "### 入力 ###\n",
      "では、ステップバイステップで考えてみましょう。\n",
      "\n",
      "1. **最初に買ったリンゴの数**: 10個\n",
      "2. **隣人に渡したリンゴの数**: 2個\n",
      "3. **修理工に渡したリンゴの数**: 2個\n",
      "\n",
      "   ここで、渡したリンゴの合計は 2 + 2 = 4 個です。\n",
      "\n",
      "4. **残りのリンゴの数**: \n",
      "   最初の10個から渡した4個を引きます。\n",
      "   \\[\n",
      "   10 - 4 = 6 \\text{個}\n",
      "   \\]\n",
      "\n",
      "5. **その後、さらにリンゴを買った数**: 5個\n",
      "6. **新しい合計のリンゴの数**: \n",
      "   残りの6個に新たに買った5個を加えます。\n",
      "   \\[\n",
      "   6 + 5 = 11 \\text{個}\n",
      "   \\]\n",
      "\n",
      "7. **食べたリンゴの数**: 1個\n",
      "8. **最終的な残りのリンゴの数**: \n",
      "   11個から食べた1個を引きます。\n",
      "   \\[\n",
      "   11 - 1 = 10 \\text{個}\n",
      "   \\]\n",
      "\n",
      "したがって、最終的に残っているリンゴの数は **10個** です。\n",
      "### 入力終了 ###\n",
      "\u001b[0m\n",
      "\n",
      "\u001b[1m> Finished chain.\u001b[0m\n",
      "\u001b[33;1m\u001b[1;3m最終的に残っているリンゴの数は10個です。\u001b[0m\n",
      "\n",
      "\u001b[1m> Finished chain.\u001b[0m\n",
      "最終的に残っているリンゴの数は10個です。\n"
     ]
    }
   ],
   "source": [
    "from langchain.chains import SimpleSequentialChain\n",
    "\n",
    "cot_summarize_chain = SimpleSequentialChain(chains=[cot_chain, summarize_chain])\n",
    "\n",
    "result = cot_summarize_chain(\"私は市場に行って１０個のリンゴを買いました。隣人に２つ、修理工に２つ渡しました。それから５つのリンゴを買って１つ食べました。残りは何個ですか？\")\n",
    "print(result[\"output\"])"
   ]
  },
  {
   "cell_type": "code",
   "execution_count": 35,
   "metadata": {},
   "outputs": [
    {
     "name": "stdout",
     "output_type": "stream",
     "text": [
      "\n",
      "\n",
      "\u001b[1m> Entering new LLMChain chain...\u001b[0m\n",
      "Prompt after formatting:\n",
      "\u001b[32;1m\u001b[1;3m料理のレシピを教えてください。\n",
      "The output should be formatted as a JSON instance that conforms to the JSON schema below.\n",
      "\n",
      "As an example, for the schema {\"properties\": {\"foo\": {\"title\": \"Foo\", \"description\": \"a list of strings\", \"type\": \"array\", \"items\": {\"type\": \"string\"}}}, \"required\": [\"foo\"]}\n",
      "the object {\"foo\": [\"bar\", \"baz\"]} is a well-formatted instance of the schema. The object {\"properties\": {\"foo\": [\"bar\", \"baz\"]}} is not well-formatted.\n",
      "\n",
      "Here is the output schema:\n",
      "```\n",
      "{\"properties\": {\"ingredients\": {\"description\": \"ingredients of the dish\", \"items\": {\"type\": \"string\"}, \"title\": \"Ingredients\", \"type\": \"array\"}, \"steps\": {\"description\": \"steps to make the dish\", \"items\": {\"type\": \"string\"}, \"title\": \"Steps\", \"type\": \"array\"}}, \"required\": [\"ingredients\", \"steps\"]}\n",
      "```\n",
      "\n",
      "料理名: カレー\n",
      "\u001b[0m\n",
      "\n",
      "\u001b[1m> Finished chain.\u001b[0m\n",
      "```json\n",
      "{\n",
      "  \"ingredients\": [\n",
      "    \"鶏肉 500g\",\n",
      "    \"玉ねぎ 2個\",\n",
      "    \"にんじん 1本\",\n",
      "    \"じゃがいも 2個\",\n",
      "    \"カレールー 1箱\",\n",
      "    \"水 800ml\",\n",
      "    \"サラダ油 大さじ2\",\n",
      "    \"塩 適量\",\n",
      "    \"こしょう 適量\"\n",
      "  ],\n",
      "  \"steps\": [\n",
      "    \"鶏肉は一口大に切り、塩とこしょうをふる。\",\n",
      "    \"玉ねぎは薄切り、にんじんとじゃがいもは一口大に切る。\",\n",
      "    \"鍋にサラダ油を熱し、玉ねぎを炒めて透明になるまで炒める。\",\n",
      "    \"鶏肉を加え、表面が白くなるまで炒める。\",\n",
      "    \"にんじんとじゃがいもを加え、全体を混ぜる。\",\n",
      "    \"水を加え、沸騰したらアクを取り、弱火で20分煮る。\",\n",
      "    \"カレールーを加え、よく溶かしてさらに10分煮る。\",\n",
      "    \"味を見て、必要に応じて塩で調整する。\",\n",
      "    \"ご飯と一緒に盛り付けて完成。\"\n",
      "  ]\n",
      "}\n",
      "```\n"
     ]
    }
   ],
   "source": [
    "from langchain.chains import LLMChain\n",
    "from langchain_openai import ChatOpenAI\n",
    "from langchain.output_parsers import PydanticOutputParser\n",
    "from langchain.prompts import PromptTemplate\n",
    "from pydantic import BaseModel, Field, validator\n",
    "from typing import List\n",
    "\n",
    "langchain.verbose = True\n",
    "chat = ChatOpenAI(model_name=\"gpt-4o-mini\", temperature=0)\n",
    "\n",
    "class Recipe(BaseModel):\n",
    "    ingredients: List[str] = Field(description=\"ingredients of the dish\")\n",
    "    steps: List[str] = Field(description=\"steps to make the dish\")\n",
    "\n",
    "template = \"\"\"料理のレシピを教えてください。\n",
    "{format_instructions}\n",
    "\n",
    "料理名: {dish}\n",
    "\"\"\"\n",
    "\n",
    "parser = PydanticOutputParser(pydantic_object=Recipe)\n",
    "\n",
    "prompt = PromptTemplate(\n",
    "    template=template,\n",
    "    input_variables=[\"dish\"],\n",
    "    partial_variables={\"format_instructions\": parser.get_format_instructions()}\n",
    ")\n",
    "\n",
    "chain = LLMChain(llm=chat, prompt=prompt)\n",
    "output = chain.run(dish=\"カレー\")\n",
    "print(output)"
   ]
  },
  {
   "cell_type": "code",
   "execution_count": 37,
   "metadata": {},
   "outputs": [
    {
     "name": "stdout",
     "output_type": "stream",
     "text": [
      "ingredients=['鶏肉 500g', '玉ねぎ 2個', 'にんじん 1本', 'じゃがいも 2個', 'カレールー 1箱', '水 800ml', 'サラダ油 大さじ2', '塩 適量', 'こしょう 適量'] steps=['鶏肉は一口大に切り、塩とこしょうをふる。', '玉ねぎは薄切り、にんじんとじゃがいもは一口大に切る。', '鍋にサラダ油を熱し、玉ねぎを炒めて透明になるまで炒める。', '鶏肉を加え、表面が白くなるまで炒める。', 'にんじんとじゃがいもを加え、全体を混ぜる。', '水を加え、沸騰したらアクを取り、弱火で20分煮る。', 'カレールーを加え、よく溶かしてさらに10分煮る。', '味を見て、必要に応じて塩で調整する。', 'ご飯と一緒に盛り付けて完成。']\n",
      "<class '__main__.Recipe'>\n"
     ]
    }
   ],
   "source": [
    "recipe = parser.parse(output)\n",
    "print(recipe)\n",
    "print(type(recipe))"
   ]
  },
  {
   "cell_type": "code",
   "execution_count": null,
   "metadata": {},
   "outputs": [],
   "source": []
  }
 ],
 "metadata": {
  "kernelspec": {
   "display_name": "venv",
   "language": "python",
   "name": "python3"
  },
  "language_info": {
   "codemirror_mode": {
    "name": "ipython",
    "version": 3
   },
   "file_extension": ".py",
   "mimetype": "text/x-python",
   "name": "python",
   "nbconvert_exporter": "python",
   "pygments_lexer": "ipython3",
   "version": "3.12.3"
  }
 },
 "nbformat": 4,
 "nbformat_minor": 2
}
